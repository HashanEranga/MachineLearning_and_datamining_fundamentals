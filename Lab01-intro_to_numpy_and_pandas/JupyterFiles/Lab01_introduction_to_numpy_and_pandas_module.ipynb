{
 "cells": [
  {
   "cell_type": "markdown",
   "id": "casual-bunny",
   "metadata": {},
   "source": [
    "# Creation"
   ]
  },
  {
   "cell_type": "code",
   "execution_count": 2,
   "id": "promotional-elder",
   "metadata": {},
   "outputs": [],
   "source": [
    "#importing module\n",
    "import numpy as np"
   ]
  },
  {
   "cell_type": "code",
   "execution_count": 4,
   "id": "laden-anthropology",
   "metadata": {},
   "outputs": [],
   "source": [
    "#creating 1D array\n",
    "array1 = np.array([1,2,3])\n"
   ]
  },
  {
   "cell_type": "code",
   "execution_count": 5,
   "id": "excellent-appliance",
   "metadata": {},
   "outputs": [
    {
     "data": {
      "text/plain": [
       "dtype('int32')"
      ]
     },
     "execution_count": 5,
     "metadata": {},
     "output_type": "execute_result"
    }
   ],
   "source": [
    "#returning the datatype of the array\n",
    "array1.dtype"
   ]
  },
  {
   "cell_type": "code",
   "execution_count": 10,
   "id": "figured-bermuda",
   "metadata": {},
   "outputs": [
    {
     "name": "stdout",
     "output_type": "stream",
     "text": [
      "[[0 1 2]\n",
      " [1 2 3]\n",
      " [6 7 8]]\n"
     ]
    }
   ],
   "source": [
    "#\n",
    "matrix = np.array([np.arange(3), [i for i in range(1,4)], [6,7,8]])\n",
    "print(matrix)"
   ]
  },
  {
   "cell_type": "markdown",
   "id": "involved-spray",
   "metadata": {},
   "source": [
    "# Initialization"
   ]
  },
  {
   "cell_type": "code",
   "execution_count": 11,
   "id": "complete-apollo",
   "metadata": {},
   "outputs": [
    {
     "data": {
      "text/plain": [
       "array([[[0., 0.],\n",
       "        [0., 0.]],\n",
       "\n",
       "       [[0., 0.],\n",
       "        [0., 0.]],\n",
       "\n",
       "       [[0., 0.],\n",
       "        [0., 0.]],\n",
       "\n",
       "       [[0., 0.],\n",
       "        [0., 0.]],\n",
       "\n",
       "       [[0., 0.],\n",
       "        [0., 0.]]])"
      ]
     },
     "execution_count": 11,
     "metadata": {},
     "output_type": "execute_result"
    }
   ],
   "source": [
    "#define an array of zeros having the datatype float\n",
    "np.zeros((5,2,2), dtype=float)"
   ]
  },
  {
   "cell_type": "code",
   "execution_count": 13,
   "id": "amber-switzerland",
   "metadata": {},
   "outputs": [
    {
     "data": {
      "text/plain": [
       "array([[1, 1, 1, 1, 1],\n",
       "       [1, 1, 1, 1, 1],\n",
       "       [1, 1, 1, 1, 1],\n",
       "       [1, 1, 1, 1, 1]])"
      ]
     },
     "execution_count": 13,
     "metadata": {},
     "output_type": "execute_result"
    }
   ],
   "source": [
    "#define an array full of ones\n",
    "np.ones((4,5), dtype=int)"
   ]
  },
  {
   "cell_type": "code",
   "execution_count": 14,
   "id": "early-eleven",
   "metadata": {},
   "outputs": [
    {
     "data": {
      "text/plain": [
       "array([[1.35404729e-311, 3.16202013e-322, 0.00000000e+000,\n",
       "        0.00000000e+000],\n",
       "       [0.00000000e+000, 3.37923634e-057, 6.22689154e-038,\n",
       "        6.12880744e-062],\n",
       "       [1.68921941e+160, 4.66458786e-062, 9.41555856e-067,\n",
       "        1.05931512e+165]])"
      ]
     },
     "execution_count": 14,
     "metadata": {},
     "output_type": "execute_result"
    }
   ],
   "source": [
    "#creating an array of 3x4 matrix\n",
    "#having random data\n",
    "np.empty([3,4])"
   ]
  },
  {
   "cell_type": "code",
   "execution_count": 20,
   "id": "inside-attempt",
   "metadata": {},
   "outputs": [
    {
     "data": {
      "text/plain": [
       "array([2, 4, 6, 8])"
      ]
     },
     "execution_count": 20,
     "metadata": {},
     "output_type": "execute_result"
    }
   ],
   "source": [
    "#arrange with evenly spaced values\n",
    "np.arange(2,10,2)\n",
    "#np.arange(start_val, end_val, period)"
   ]
  },
  {
   "cell_type": "code",
   "execution_count": 23,
   "id": "informative-hawaii",
   "metadata": {},
   "outputs": [
    {
     "data": {
      "text/plain": [
       "array([[2, 3],\n",
       "       [4, 5],\n",
       "       [6, 7],\n",
       "       [8, 9]])"
      ]
     },
     "execution_count": 23,
     "metadata": {},
     "output_type": "execute_result"
    }
   ],
   "source": [
    "#rearrangeing the size of the array\n",
    "np.arange(2,10,1).reshape(4,2)"
   ]
  },
  {
   "cell_type": "code",
   "execution_count": 24,
   "id": "eleven-toddler",
   "metadata": {},
   "outputs": [
    {
     "data": {
      "text/plain": [
       "array([[4, 4, 4],\n",
       "       [4, 4, 4]])"
      ]
     },
     "execution_count": 24,
     "metadata": {},
     "output_type": "execute_result"
    }
   ],
   "source": [
    "#creating an array with constants 2x3 matrix including the value 4\n",
    "np.full([2,3], 4)"
   ]
  },
  {
   "cell_type": "code",
   "execution_count": 26,
   "id": "improving-pocket",
   "metadata": {},
   "outputs": [
    {
     "data": {
      "text/plain": [
       "array([[1., 0., 0.],\n",
       "       [0., 1., 0.],\n",
       "       [0., 0., 1.]])"
      ]
     },
     "execution_count": 26,
     "metadata": {},
     "output_type": "execute_result"
    }
   ],
   "source": [
    "#identity matrix created 3x3\n",
    "np.eye(3)\n"
   ]
  },
  {
   "cell_type": "code",
   "execution_count": 27,
   "id": "surprised-privacy",
   "metadata": {},
   "outputs": [
    {
     "data": {
      "text/plain": [
       "array([[1., 0., 0.],\n",
       "       [0., 1., 0.],\n",
       "       [0., 0., 1.]])"
      ]
     },
     "execution_count": 27,
     "metadata": {},
     "output_type": "execute_result"
    }
   ],
   "source": [
    "np.identity(3)"
   ]
  },
  {
   "cell_type": "code",
   "execution_count": 28,
   "id": "nearby-morrison",
   "metadata": {},
   "outputs": [
    {
     "data": {
      "text/plain": [
       "array([2.  , 2.25, 2.5 , 2.75, 3.  ])"
      ]
     },
     "execution_count": 28,
     "metadata": {},
     "output_type": "execute_result"
    }
   ],
   "source": [
    "#creating an array 5 splits from 2 to 3 including those values\n",
    "np.linspace(2,3,5)"
   ]
  },
  {
   "cell_type": "markdown",
   "id": "major-surgeon",
   "metadata": {},
   "source": [
    "# Copying, Sorting, Shifting"
   ]
  },
  {
   "cell_type": "code",
   "execution_count": 29,
   "id": "dietary-vampire",
   "metadata": {},
   "outputs": [
    {
     "data": {
      "text/plain": [
       "array([[0, 1, 2],\n",
       "       [1, 2, 3],\n",
       "       [6, 7, 8]])"
      ]
     },
     "execution_count": 29,
     "metadata": {},
     "output_type": "execute_result"
    }
   ],
   "source": [
    "#Return the copy of the defined matrix called matrix\n",
    "np.copy(matrix)"
   ]
  },
  {
   "cell_type": "code",
   "execution_count": 30,
   "id": "mathematical-sudan",
   "metadata": {},
   "outputs": [
    {
     "data": {
      "text/plain": [
       "array([[0, 1, 2],\n",
       "       [1, 2, 3],\n",
       "       [6, 7, 8]])"
      ]
     },
     "execution_count": 30,
     "metadata": {},
     "output_type": "execute_result"
    }
   ],
   "source": [
    "#matrix deep copy function\n",
    "matrix.copy()"
   ]
  },
  {
   "cell_type": "code",
   "execution_count": 31,
   "id": "linear-contents",
   "metadata": {},
   "outputs": [
    {
     "data": {
      "text/plain": [
       "array([[0, 1, 2],\n",
       "       [1, 2, 3],\n",
       "       [6, 7, 8]])"
      ]
     },
     "execution_count": 31,
     "metadata": {},
     "output_type": "execute_result"
    }
   ],
   "source": [
    "#shallow copy \n",
    "matrix.view()"
   ]
  },
  {
   "cell_type": "code",
   "execution_count": 33,
   "id": "surgical-soundtrack",
   "metadata": {},
   "outputs": [
    {
     "name": "stdout",
     "output_type": "stream",
     "text": [
      "[[0 1 2]\n",
      " [1 2 3]\n",
      " [6 7 8]]\n"
     ]
    }
   ],
   "source": [
    "#sorting values in assending order\n",
    "matrix.sort()\n",
    "print(matrix)"
   ]
  },
  {
   "cell_type": "code",
   "execution_count": 38,
   "id": "funny-combine",
   "metadata": {},
   "outputs": [],
   "source": [
    "#sort values along the specified axis\n",
    "matrix.sort(axis=0)"
   ]
  },
  {
   "cell_type": "code",
   "execution_count": 39,
   "id": "returning-missouri",
   "metadata": {},
   "outputs": [],
   "source": [
    "matrix.sort(axis=1)"
   ]
  },
  {
   "cell_type": "code",
   "execution_count": 42,
   "id": "worth-competition",
   "metadata": {},
   "outputs": [
    {
     "name": "stdout",
     "output_type": "stream",
     "text": [
      "[[1 2 3]\n",
      " [3 4 5]\n",
      " [7 4 2]\n",
      " [9 6 4]]\n"
     ]
    }
   ],
   "source": [
    "mat = np.array( [[1,2,3], [3,4,5], [7,4,2], [9,6,4]])\n",
    "print(mat)"
   ]
  },
  {
   "cell_type": "code",
   "execution_count": 46,
   "id": "sunset-force",
   "metadata": {},
   "outputs": [
    {
     "data": {
      "text/plain": [
       "array([[1, 2, 2],\n",
       "       [3, 4, 3],\n",
       "       [7, 4, 4],\n",
       "       [9, 6, 5]])"
      ]
     },
     "execution_count": 46,
     "metadata": {},
     "output_type": "execute_result"
    }
   ],
   "source": [
    "#values are sorted along the column wise\n",
    "mat.sort(axis=0)\n",
    "mat"
   ]
  },
  {
   "cell_type": "code",
   "execution_count": 48,
   "id": "visible-objective",
   "metadata": {},
   "outputs": [
    {
     "data": {
      "text/plain": [
       "array([[1, 2, 2],\n",
       "       [3, 3, 4],\n",
       "       [4, 4, 7],\n",
       "       [5, 6, 9]])"
      ]
     },
     "execution_count": 48,
     "metadata": {},
     "output_type": "execute_result"
    }
   ],
   "source": [
    "#values are sorting along the row\n",
    "mat.sort(axis=1)\n",
    "mat"
   ]
  },
  {
   "cell_type": "code",
   "execution_count": 50,
   "id": "shaped-billy",
   "metadata": {},
   "outputs": [
    {
     "data": {
      "text/plain": [
       "array([[0],\n",
       "       [1],\n",
       "       [6]])"
      ]
     },
     "execution_count": 50,
     "metadata": {},
     "output_type": "execute_result"
    }
   ],
   "source": [
    "#indexing starting from 0 \n",
    "matrix[0:,:1]"
   ]
  },
  {
   "cell_type": "code",
   "execution_count": 51,
   "id": "enabling-number",
   "metadata": {},
   "outputs": [
    {
     "data": {
      "text/plain": [
       "array([[0, 1, 2],\n",
       "       [1, 2, 3],\n",
       "       [6, 7, 8]])"
      ]
     },
     "execution_count": 51,
     "metadata": {},
     "output_type": "execute_result"
    }
   ],
   "source": [
    "matrix"
   ]
  },
  {
   "cell_type": "code",
   "execution_count": 53,
   "id": "serial-antibody",
   "metadata": {},
   "outputs": [
    {
     "data": {
      "text/plain": [
       "array([[0, 1, 2]])"
      ]
     },
     "execution_count": 53,
     "metadata": {},
     "output_type": "execute_result"
    }
   ],
   "source": [
    "matrix[:1, :]"
   ]
  },
  {
   "cell_type": "code",
   "execution_count": 55,
   "id": "hungarian-favor",
   "metadata": {},
   "outputs": [
    {
     "data": {
      "text/plain": [
       "array([[0, 1],\n",
       "       [1, 2]])"
      ]
     },
     "execution_count": 55,
     "metadata": {},
     "output_type": "execute_result"
    }
   ],
   "source": [
    "matrix[:2, 0:2]"
   ]
  },
  {
   "cell_type": "code",
   "execution_count": 58,
   "id": "productive-costa",
   "metadata": {},
   "outputs": [
    {
     "data": {
      "text/plain": [
       "array([[0, 1, 2]])"
      ]
     },
     "execution_count": 58,
     "metadata": {},
     "output_type": "execute_result"
    }
   ],
   "source": [
    "matrix[:1, :]"
   ]
  },
  {
   "cell_type": "markdown",
   "id": "beautiful-lotus",
   "metadata": {},
   "source": [
    "# Try Out"
   ]
  },
  {
   "cell_type": "code",
   "execution_count": 59,
   "id": "sweet-green",
   "metadata": {},
   "outputs": [
    {
     "data": {
      "text/plain": [
       "array([[45,  1,  2],\n",
       "       [ 1,  2,  3],\n",
       "       [ 6,  7,  8]])"
      ]
     },
     "execution_count": 59,
     "metadata": {},
     "output_type": "execute_result"
    }
   ],
   "source": [
    "#change the specific value in the array\n",
    "matrix[0,0] = 45\n",
    "matrix"
   ]
  },
  {
   "cell_type": "code",
   "execution_count": null,
   "metadata": {},
   "outputs": [],
   "source": []
  },
  {
   "cell_type": "code",
   "execution_count": 61,
   "id": "brown-emerald",
   "metadata": {},
   "outputs": [
    {
     "data": {
      "text/plain": [
       "45"
      ]
     },
     "execution_count": 61,
     "metadata": {},
     "output_type": "execute_result"
    }
   ],
   "source": [
    "#print the 1st raw first value\n",
    "matrix[0,0]"
   ]
  },
  {
   "cell_type": "code",
   "execution_count": 64,
   "id": "dynamic-laser",
   "metadata": {},
   "outputs": [
    {
     "data": {
      "text/plain": [
       "array([[42, 42, 42],\n",
       "       [ 1,  2,  3],\n",
       "       [ 6,  7,  8]])"
      ]
     },
     "execution_count": 64,
     "metadata": {},
     "output_type": "execute_result"
    }
   ],
   "source": [
    "#making changes to all the values in the first raw\n",
    "matrix[0] = 42\n",
    "matrix"
   ]
  },
  {
   "cell_type": "code",
   "execution_count": 65,
   "id": "exterior-sugar",
   "metadata": {},
   "outputs": [
    {
     "data": {
      "text/plain": [
       "array([[1, 2, 3],\n",
       "       [6, 7, 8]])"
      ]
     },
     "execution_count": 65,
     "metadata": {},
     "output_type": "execute_result"
    }
   ],
   "source": [
    "#interpret all the values from the 1st raw\n",
    "matrix[1:]"
   ]
  },
  {
   "cell_type": "code",
   "execution_count": 69,
   "id": "threaded-reduction",
   "metadata": {},
   "outputs": [
    {
     "data": {
      "text/plain": [
       "array([[42, 42, 42],\n",
       "       [ 1,  2,  3]])"
      ]
     },
     "execution_count": 69,
     "metadata": {},
     "output_type": "execute_result"
    }
   ],
   "source": [
    "#show values \n",
    "matrix[0:2]"
   ]
  },
  {
   "cell_type": "code",
   "execution_count": 70,
   "id": "closed-caution",
   "metadata": {},
   "outputs": [
    {
     "data": {
      "text/plain": [
       "array([[42, 42, 42],\n",
       "       [ 1,  2,  3],\n",
       "       [ 6,  7,  8]])"
      ]
     },
     "execution_count": 70,
     "metadata": {},
     "output_type": "execute_result"
    }
   ],
   "source": [
    "matrix[:]"
   ]
  },
  {
   "cell_type": "code",
   "execution_count": 71,
   "id": "arabic-spice",
   "metadata": {},
   "outputs": [
    {
     "data": {
      "text/plain": [
       "array([[42, 42]])"
      ]
     },
     "execution_count": 71,
     "metadata": {},
     "output_type": "execute_result"
    }
   ],
   "source": [
    "matrix[:1, :2]"
   ]
  },
  {
   "cell_type": "code",
   "execution_count": 73,
   "id": "developing-garbage",
   "metadata": {},
   "outputs": [
    {
     "data": {
      "text/plain": [
       "array([[2, 3],\n",
       "       [7, 8]])"
      ]
     },
     "execution_count": 73,
     "metadata": {},
     "output_type": "execute_result"
    }
   ],
   "source": [
    "matrix[1: , 1:]"
   ]
  },
  {
   "cell_type": "code",
   "execution_count": 74,
   "id": "massive-tourist",
   "metadata": {},
   "outputs": [
    {
     "data": {
      "text/plain": [
       "array([[42, 42],\n",
       "       [ 2,  3]])"
      ]
     },
     "execution_count": 74,
     "metadata": {},
     "output_type": "execute_result"
    }
   ],
   "source": [
    "matrix[:2, 1:]"
   ]
  },
  {
   "cell_type": "code",
   "execution_count": 75,
   "id": "strong-creator",
   "metadata": {},
   "outputs": [
    {
     "data": {
      "text/plain": [
       "array([42, 42, 42,  1,  2,  3,  6,  7,  8])"
      ]
     },
     "execution_count": 75,
     "metadata": {},
     "output_type": "execute_result"
    }
   ],
   "source": [
    "#using for flatten the arrays like 2 dimetional and multi dimentional\n",
    "matrix.ravel()"
   ]
  },
  {
   "cell_type": "code",
   "execution_count": 76,
   "id": "unlike-republic",
   "metadata": {},
   "outputs": [
    {
     "data": {
      "text/plain": [
       "array([42,  2,  7])"
      ]
     },
     "execution_count": 76,
     "metadata": {},
     "output_type": "execute_result"
    }
   ],
   "source": [
    "matrix[:, 1].copy()\n"
   ]
  },
  {
   "cell_type": "code",
   "execution_count": 78,
   "id": "auburn-mediterranean",
   "metadata": {},
   "outputs": [
    {
     "data": {
      "text/plain": [
       "[42, 42, 42]"
      ]
     },
     "execution_count": 78,
     "metadata": {},
     "output_type": "execute_result"
    }
   ],
   "source": [
    "matrix[0].tolist()"
   ]
  },
  {
   "cell_type": "code",
   "execution_count": 82,
   "id": "defined-throat",
   "metadata": {},
   "outputs": [
    {
     "data": {
      "text/plain": [
       "array([42, 42, 42,  1,  2,  3,  6,  7,  8])"
      ]
     },
     "execution_count": 82,
     "metadata": {},
     "output_type": "execute_result"
    }
   ],
   "source": [
    "matrix.reshape(9)"
   ]
  },
  {
   "cell_type": "code",
   "execution_count": 9,
   "id": "headed-uganda",
   "metadata": {},
   "outputs": [],
   "source": [
    "#matrix multiplication\n",
    "matA = np.array([[2,4,7],[5,3,9], [2,1,7]])\n",
    "matB = np.random.randint(-3,3,(3,7))"
   ]
  },
  {
   "cell_type": "code",
   "execution_count": 11,
   "metadata": {},
   "outputs": [
    {
     "output_type": "execute_result",
     "data": {
      "text/plain": [
       "array([[-24,  -9, -13, -29,  22,   2, -20],\n",
       "       [-22, -11, -14, -26,  24,   9, -33],\n",
       "       [-15, -15, -16, -20,  16,  11, -20]])"
      ]
     },
     "metadata": {},
     "execution_count": 11
    }
   ],
   "source": [
    "matC = np.matmul(matA, matB)\n",
    "matC"
   ]
  },
  {
   "cell_type": "code",
   "execution_count": 14,
   "metadata": {},
   "outputs": [
    {
     "output_type": "stream",
     "name": "stdout",
     "text": [
      "Duration = -0.0010030269622802734\n"
     ]
    }
   ],
   "source": [
    "import time\n",
    "start_time = time.time()\n",
    "matD = np.matmul(matA, matB)\n",
    "end_time = time.time()\n",
    "duration = start_time-end_time\n",
    "\n",
    "print('Duration =', duration)"
   ]
  },
  {
   "cell_type": "code",
   "execution_count": 18,
   "metadata": {},
   "outputs": [
    {
     "output_type": "stream",
     "name": "stdout",
     "text": [
      "[[-24  -9 -13 -29  22   2 -20]\n [-22 -11 -14 -26  24   9 -33]\n [-15 -15 -16 -20  16  11 -20]]\n"
     ]
    }
   ],
   "source": [
    "print(matD)"
   ]
  },
  {
   "source": [
    "# Pandas"
   ],
   "cell_type": "markdown",
   "metadata": {}
  },
  {
   "cell_type": "code",
   "execution_count": 21,
   "metadata": {},
   "outputs": [],
   "source": [
    "#import pandas library\n",
    "import pandas as pd"
   ]
  },
  {
   "cell_type": "code",
   "execution_count": 23,
   "metadata": {},
   "outputs": [
    {
     "output_type": "execute_result",
     "data": {
      "text/plain": [
       "a         1\n",
       "b         4\n",
       "c        -2\n",
       "d    string\n",
       "dtype: object"
      ]
     },
     "metadata": {},
     "execution_count": 23
    }
   ],
   "source": [
    "#creating pandas dictionaries using series\n",
    "a = pd.Series([1,4,-2,'string'], index=['a','b','c','d'])\n",
    "a"
   ]
  },
  {
   "cell_type": "code",
   "execution_count": 27,
   "metadata": {},
   "outputs": [
    {
     "output_type": "execute_result",
     "data": {
      "text/plain": [
       "   polulation animals\n",
       "1          12     dog\n",
       "2          24     cat\n",
       "3          56    wold\n",
       "4         234  parrot\n",
       "5          78     fox\n",
       "6          12   snake"
      ],
      "text/html": "<div>\n<style scoped>\n    .dataframe tbody tr th:only-of-type {\n        vertical-align: middle;\n    }\n\n    .dataframe tbody tr th {\n        vertical-align: top;\n    }\n\n    .dataframe thead th {\n        text-align: right;\n    }\n</style>\n<table border=\"1\" class=\"dataframe\">\n  <thead>\n    <tr style=\"text-align: right;\">\n      <th></th>\n      <th>polulation</th>\n      <th>animals</th>\n    </tr>\n  </thead>\n  <tbody>\n    <tr>\n      <td>1</td>\n      <td>12</td>\n      <td>dog</td>\n    </tr>\n    <tr>\n      <td>2</td>\n      <td>24</td>\n      <td>cat</td>\n    </tr>\n    <tr>\n      <td>3</td>\n      <td>56</td>\n      <td>wold</td>\n    </tr>\n    <tr>\n      <td>4</td>\n      <td>234</td>\n      <td>parrot</td>\n    </tr>\n    <tr>\n      <td>5</td>\n      <td>78</td>\n      <td>fox</td>\n    </tr>\n    <tr>\n      <td>6</td>\n      <td>12</td>\n      <td>snake</td>\n    </tr>\n  </tbody>\n</table>\n</div>"
     },
     "metadata": {},
     "execution_count": 27
    }
   ],
   "source": [
    "#creating a dataframe using pandas\n",
    "data = {'polulation' : [12,24,56,234,78,12], 'animals': ['dog', 'cat', 'wold', 'parrot', 'fox', 'snake']}\n",
    "data\n",
    "#passing the dataset to the dataframe\n",
    "df = pd.DataFrame(data, index=[1,2,3,4,5,6])\n",
    "df"
   ]
  },
  {
   "cell_type": "code",
   "execution_count": 30,
   "metadata": {},
   "outputs": [
    {
     "output_type": "execute_result",
     "data": {
      "text/plain": [
       "      A         B         C         D         E         F     G            H  \\\n",
       "0   5.1  0.222222  3.500000  0.625000  1.400000  0.067797  0.20  0.041666667   \n",
       "1   4.9  0.166667  3.000000  0.416667  1.400000  0.067797  0.20  0.041666667   \n",
       "2   4.7  0.111111  3.200000  0.500000  1.300000       NaN  0.20  0.041666667   \n",
       "3   4.6  0.083333  3.100000  0.458333  1.500000  0.084746  0.20  0.041666667   \n",
       "4   NaN  0.194444  3.600000  0.666667  1.400000       NaN  0.20  0.041666667   \n",
       "..  ...       ...       ...       ...       ...       ...   ...          ...   \n",
       "95  7.2  0.805556  3.000000  0.416667  5.800000  0.813559  1.60        0.625   \n",
       "96  7.4       NaN  0.333333  6.100000  0.864407  1.900000  0.75    virginica   \n",
       "97  7.9  0.999900  3.800000  0.750000  6.400000  0.915254  2.00  0.791666667   \n",
       "98  6.4  0.583333  2.800000  0.333333  5.600000  0.779661  2.20        0.875   \n",
       "99  6.3  0.555556  2.800000  0.333333  5.100000  0.694915  1.50  0.583333333   \n",
       "\n",
       "            I  \n",
       "0      setosa  \n",
       "1      setosa  \n",
       "2      setosa  \n",
       "3      setosa  \n",
       "4      setosa  \n",
       "..        ...  \n",
       "95  virginica  \n",
       "96        NaN  \n",
       "97  virginica  \n",
       "98  virginica  \n",
       "99  virginica  \n",
       "\n",
       "[100 rows x 9 columns]"
      ],
      "text/html": "<div>\n<style scoped>\n    .dataframe tbody tr th:only-of-type {\n        vertical-align: middle;\n    }\n\n    .dataframe tbody tr th {\n        vertical-align: top;\n    }\n\n    .dataframe thead th {\n        text-align: right;\n    }\n</style>\n<table border=\"1\" class=\"dataframe\">\n  <thead>\n    <tr style=\"text-align: right;\">\n      <th></th>\n      <th>A</th>\n      <th>B</th>\n      <th>C</th>\n      <th>D</th>\n      <th>E</th>\n      <th>F</th>\n      <th>G</th>\n      <th>H</th>\n      <th>I</th>\n    </tr>\n  </thead>\n  <tbody>\n    <tr>\n      <td>0</td>\n      <td>5.1</td>\n      <td>0.222222</td>\n      <td>3.500000</td>\n      <td>0.625000</td>\n      <td>1.400000</td>\n      <td>0.067797</td>\n      <td>0.20</td>\n      <td>0.041666667</td>\n      <td>setosa</td>\n    </tr>\n    <tr>\n      <td>1</td>\n      <td>4.9</td>\n      <td>0.166667</td>\n      <td>3.000000</td>\n      <td>0.416667</td>\n      <td>1.400000</td>\n      <td>0.067797</td>\n      <td>0.20</td>\n      <td>0.041666667</td>\n      <td>setosa</td>\n    </tr>\n    <tr>\n      <td>2</td>\n      <td>4.7</td>\n      <td>0.111111</td>\n      <td>3.200000</td>\n      <td>0.500000</td>\n      <td>1.300000</td>\n      <td>NaN</td>\n      <td>0.20</td>\n      <td>0.041666667</td>\n      <td>setosa</td>\n    </tr>\n    <tr>\n      <td>3</td>\n      <td>4.6</td>\n      <td>0.083333</td>\n      <td>3.100000</td>\n      <td>0.458333</td>\n      <td>1.500000</td>\n      <td>0.084746</td>\n      <td>0.20</td>\n      <td>0.041666667</td>\n      <td>setosa</td>\n    </tr>\n    <tr>\n      <td>4</td>\n      <td>NaN</td>\n      <td>0.194444</td>\n      <td>3.600000</td>\n      <td>0.666667</td>\n      <td>1.400000</td>\n      <td>NaN</td>\n      <td>0.20</td>\n      <td>0.041666667</td>\n      <td>setosa</td>\n    </tr>\n    <tr>\n      <td>...</td>\n      <td>...</td>\n      <td>...</td>\n      <td>...</td>\n      <td>...</td>\n      <td>...</td>\n      <td>...</td>\n      <td>...</td>\n      <td>...</td>\n      <td>...</td>\n    </tr>\n    <tr>\n      <td>95</td>\n      <td>7.2</td>\n      <td>0.805556</td>\n      <td>3.000000</td>\n      <td>0.416667</td>\n      <td>5.800000</td>\n      <td>0.813559</td>\n      <td>1.60</td>\n      <td>0.625</td>\n      <td>virginica</td>\n    </tr>\n    <tr>\n      <td>96</td>\n      <td>7.4</td>\n      <td>NaN</td>\n      <td>0.333333</td>\n      <td>6.100000</td>\n      <td>0.864407</td>\n      <td>1.900000</td>\n      <td>0.75</td>\n      <td>virginica</td>\n      <td>NaN</td>\n    </tr>\n    <tr>\n      <td>97</td>\n      <td>7.9</td>\n      <td>0.999900</td>\n      <td>3.800000</td>\n      <td>0.750000</td>\n      <td>6.400000</td>\n      <td>0.915254</td>\n      <td>2.00</td>\n      <td>0.791666667</td>\n      <td>virginica</td>\n    </tr>\n    <tr>\n      <td>98</td>\n      <td>6.4</td>\n      <td>0.583333</td>\n      <td>2.800000</td>\n      <td>0.333333</td>\n      <td>5.600000</td>\n      <td>0.779661</td>\n      <td>2.20</td>\n      <td>0.875</td>\n      <td>virginica</td>\n    </tr>\n    <tr>\n      <td>99</td>\n      <td>6.3</td>\n      <td>0.555556</td>\n      <td>2.800000</td>\n      <td>0.333333</td>\n      <td>5.100000</td>\n      <td>0.694915</td>\n      <td>1.50</td>\n      <td>0.583333333</td>\n      <td>virginica</td>\n    </tr>\n  </tbody>\n</table>\n<p>100 rows × 9 columns</p>\n</div>"
     },
     "metadata": {},
     "execution_count": 30
    }
   ],
   "source": [
    "dataset = pd.read_csv('Dataset/sampleDataset.csv')\n",
    "dataset"
   ]
  },
  {
   "cell_type": "code",
   "execution_count": 33,
   "metadata": {},
   "outputs": [
    {
     "output_type": "execute_result",
     "data": {
      "text/plain": [
       "        A      B      C      D      E      F      G      H      I\n",
       "0   False  False  False  False  False  False  False  False  False\n",
       "1   False  False  False  False  False  False  False  False  False\n",
       "2   False  False  False  False  False   True  False  False  False\n",
       "3   False  False  False  False  False  False  False  False  False\n",
       "4    True  False  False  False  False   True  False  False  False\n",
       "..    ...    ...    ...    ...    ...    ...    ...    ...    ...\n",
       "95  False  False  False  False  False  False  False  False  False\n",
       "96  False   True  False  False  False  False  False  False   True\n",
       "97  False  False  False  False  False  False  False  False  False\n",
       "98  False  False  False  False  False  False  False  False  False\n",
       "99  False  False  False  False  False  False  False  False  False\n",
       "\n",
       "[100 rows x 9 columns]"
      ],
      "text/html": "<div>\n<style scoped>\n    .dataframe tbody tr th:only-of-type {\n        vertical-align: middle;\n    }\n\n    .dataframe tbody tr th {\n        vertical-align: top;\n    }\n\n    .dataframe thead th {\n        text-align: right;\n    }\n</style>\n<table border=\"1\" class=\"dataframe\">\n  <thead>\n    <tr style=\"text-align: right;\">\n      <th></th>\n      <th>A</th>\n      <th>B</th>\n      <th>C</th>\n      <th>D</th>\n      <th>E</th>\n      <th>F</th>\n      <th>G</th>\n      <th>H</th>\n      <th>I</th>\n    </tr>\n  </thead>\n  <tbody>\n    <tr>\n      <td>0</td>\n      <td>False</td>\n      <td>False</td>\n      <td>False</td>\n      <td>False</td>\n      <td>False</td>\n      <td>False</td>\n      <td>False</td>\n      <td>False</td>\n      <td>False</td>\n    </tr>\n    <tr>\n      <td>1</td>\n      <td>False</td>\n      <td>False</td>\n      <td>False</td>\n      <td>False</td>\n      <td>False</td>\n      <td>False</td>\n      <td>False</td>\n      <td>False</td>\n      <td>False</td>\n    </tr>\n    <tr>\n      <td>2</td>\n      <td>False</td>\n      <td>False</td>\n      <td>False</td>\n      <td>False</td>\n      <td>False</td>\n      <td>True</td>\n      <td>False</td>\n      <td>False</td>\n      <td>False</td>\n    </tr>\n    <tr>\n      <td>3</td>\n      <td>False</td>\n      <td>False</td>\n      <td>False</td>\n      <td>False</td>\n      <td>False</td>\n      <td>False</td>\n      <td>False</td>\n      <td>False</td>\n      <td>False</td>\n    </tr>\n    <tr>\n      <td>4</td>\n      <td>True</td>\n      <td>False</td>\n      <td>False</td>\n      <td>False</td>\n      <td>False</td>\n      <td>True</td>\n      <td>False</td>\n      <td>False</td>\n      <td>False</td>\n    </tr>\n    <tr>\n      <td>...</td>\n      <td>...</td>\n      <td>...</td>\n      <td>...</td>\n      <td>...</td>\n      <td>...</td>\n      <td>...</td>\n      <td>...</td>\n      <td>...</td>\n      <td>...</td>\n    </tr>\n    <tr>\n      <td>95</td>\n      <td>False</td>\n      <td>False</td>\n      <td>False</td>\n      <td>False</td>\n      <td>False</td>\n      <td>False</td>\n      <td>False</td>\n      <td>False</td>\n      <td>False</td>\n    </tr>\n    <tr>\n      <td>96</td>\n      <td>False</td>\n      <td>True</td>\n      <td>False</td>\n      <td>False</td>\n      <td>False</td>\n      <td>False</td>\n      <td>False</td>\n      <td>False</td>\n      <td>True</td>\n    </tr>\n    <tr>\n      <td>97</td>\n      <td>False</td>\n      <td>False</td>\n      <td>False</td>\n      <td>False</td>\n      <td>False</td>\n      <td>False</td>\n      <td>False</td>\n      <td>False</td>\n      <td>False</td>\n    </tr>\n    <tr>\n      <td>98</td>\n      <td>False</td>\n      <td>False</td>\n      <td>False</td>\n      <td>False</td>\n      <td>False</td>\n      <td>False</td>\n      <td>False</td>\n      <td>False</td>\n      <td>False</td>\n    </tr>\n    <tr>\n      <td>99</td>\n      <td>False</td>\n      <td>False</td>\n      <td>False</td>\n      <td>False</td>\n      <td>False</td>\n      <td>False</td>\n      <td>False</td>\n      <td>False</td>\n      <td>False</td>\n    </tr>\n  </tbody>\n</table>\n<p>100 rows × 9 columns</p>\n</div>"
     },
     "metadata": {},
     "execution_count": 33
    }
   ],
   "source": [
    "dataset.isnull()"
   ]
  },
  {
   "cell_type": "code",
   "execution_count": null,
   "metadata": {},
   "outputs": [],
   "source": []
  }
 ],
 "metadata": {
  "kernelspec": {
   "name": "python3",
   "display_name": "Python 3.7.4 64-bit ('base': conda)"
  },
  "language_info": {
   "codemirror_mode": {
    "name": "ipython",
    "version": 3
   },
   "file_extension": ".py",
   "mimetype": "text/x-python",
   "name": "python",
   "nbconvert_exporter": "python",
   "pygments_lexer": "ipython3",
   "version": "3.7.4"
  },
  "interpreter": {
   "hash": "f0389215ecfd6642c8520d1a13a4e1088db6ed101b35e700c6c542e15a06b8a8"
  }
 },
 "nbformat": 4,
 "nbformat_minor": 5
}